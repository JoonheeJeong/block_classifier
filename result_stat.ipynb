{
 "cells": [
  {
   "cell_type": "code",
   "execution_count": 44,
   "metadata": {},
   "outputs": [
    {
     "name": "stdout",
     "output_type": "stream",
     "text": [
      "len(dirlist): 19\n",
      "ckpt not here in: /workspace/paperassistant/backend/block_classifier/model/predict_next_structure/ignore-5/scibert/16/lightning_logs/version_1\n",
      "excel was dumped at: /workspace/paperassistant/backend/block_classifier/all_outputs.xlsx\n"
     ]
    }
   ],
   "source": [
    "import os\n",
    "import pandas as pd\n",
    "from glob import glob\n",
    "\n",
    "dirname = '/workspace/paperassistant/backend/block_classifier/model'\n",
    "fn_output = '/workspace/paperassistant/backend/block_classifier/all_outputs.xlsx'\n",
    "\n",
    "TASKS = ['auto-structurize', 'predict_next_structure']\n",
    "DATA_MODELS = ['ignore', 'replace', 'ignore-56', 'replace-56', 'ignore-5']\n",
    "MODELS = ['bert', 'scibert', 'electra', 't5']\n",
    "# batch_size\n",
    "# lightning_logs\n",
    "# version_\n",
    "\n",
    "def make_result_stat():\n",
    "\tdirlist = glob(os.path.join(dirname, '*/*/*/*/*/version_*'))\n",
    "\tprint('len(dirlist):', len(dirlist))\n",
    "\n",
    "\ttdf = pd.DataFrame()\n",
    "\n",
    "\tfor dir in dirlist:\n",
    "\t\tckpt = glob(os.path.join(dir, \"*.ckpt\"))\n",
    "\t\tif len(ckpt) == 0:\n",
    "\t\t\tprint('ckpt not here in:', dir)\n",
    "\t\t\tcontinue\n",
    "\t\telif len(ckpt) > 1:\n",
    "\t\t\tprint('there are more than one ckpt in:', dir)\n",
    "\t\tckpt_split = ckpt[0].split('/')[-1].split('-')\n",
    "\t\t#print('ckpt_split:', ckpt_split)\n",
    "\t\tepoch = ckpt_split[0].split('=')[1]\n",
    "\t\tval_loss = ckpt_split[1].split('=')[1]\n",
    "\t\tval_acc = ckpt_split[2].split('=')[1].split('.ckpt')[0]\n",
    "\n",
    "\t\tdir_split = dir.split('/')\n",
    "\t\ttask = dir_split[-6]\n",
    "\t\tdata_model = dir_split[-5]\n",
    "\t\tmodel = dir_split[-4]\n",
    "\t\tbatch = dir_split[-3]\n",
    "\t\t\n",
    "\t\tfn_metrics = glob(os.path.join(dir, \"*.csv\"))[0]\n",
    "\t\tdf = pd.read_csv(fn_metrics, sep='\\t')\n",
    "\t\t#print(df['acc'])\n",
    "\n",
    "\t\timport yaml\n",
    "\t\tfn_hparams = glob(os.path.join(dir, \"*.yaml\"))[0]\n",
    "\t\twith open(fn_hparams) as f:\n",
    "\t\t\thparams_yaml = yaml.load(f, Loader=yaml.FullLoader)\n",
    "\t\tlr = hparams_yaml['learning_rate']\n",
    "\t\twd = hparams_yaml['weight_decay']\n",
    "\t\tadam_eps = hparams_yaml['adam_epsilon']\n",
    "\t\tnum_class = hparams_yaml['num_class']\n",
    "\t\twith_sampler = hparams_yaml['with_sampler']\n",
    "\n",
    "\t\tdf['task'] = [task]\n",
    "\t\tdf['data_model'] = [data_model]\n",
    "\t\tdf['num_class'] = [num_class]\n",
    "\t\tdf['model'] = [model]\n",
    "\t\tdf['batch'] = [batch]\n",
    "\t\tdf['lr'] = [lr]\n",
    "\t\tdf['with_sampler'] = [with_sampler]\n",
    "\t\tdf['wd'] = [wd]\n",
    "\t\tdf['adam_eps'] = [adam_eps]\n",
    "\t\tdf['ckpt_epoch'] = [epoch]\n",
    "\t\tdf['ckpt_val_loss'] = [val_loss]\n",
    "\t\tdf['ckpt_val_acc'] = [val_acc]\n",
    "\n",
    "\t\tdf = df[['task', 'data_model', 'num_class', 'model', 'batch', \n",
    "\t\t\t\t 'acc', 'acc_top3', 'f1', 'f1_top3', 'recall', 'recall_top3',\n",
    "\t\t\t\t 'lr', 'with_sampler', 'wd', 'adam_eps',\n",
    "\t\t\t\t 'ckpt_epoch', 'ckpt_val_loss', 'ckpt_val_acc']]\n",
    "\t\t\n",
    "\t\ttdf = pd.concat([tdf, df], ignore_index=True)\n",
    "\n",
    "\ttdf.to_excel(fn_output, sheet_name='sheet1')\n",
    "\tprint('excel was dumped at:', fn_output)\n",
    "\t\n",
    "\n",
    "make_result_stat()"
   ]
  },
  {
   "cell_type": "code",
   "execution_count": 33,
   "metadata": {},
   "outputs": [
    {
     "data": {
      "image/png": "[encoded data removed]",
      "text/plain": [
       "<Figure size 640x480 with 1 Axes>"
      ]
     },
     "metadata": {},
     "output_type": "display_data"
    },
    {
     "name": "stdout",
     "output_type": "stream",
     "text": [
      "number of total samples: 10249\n",
      "number of samples longer than 48: 255\n",
      "max_seq_len: 111\n"
     ]
    }
   ],
   "source": [
    "### find max sequnce length\n",
    "\n",
    "from nltk.tokenize import TreebankWordTokenizer\n",
    "import matplotlib.pyplot as plt\n",
    "\n",
    "tokenizer = TreebankWordTokenizer()\n",
    "\n",
    "fn = '/workspace/paperassistant/backend/block_classifier/data/total_nosep.txt'\n",
    "\n",
    "def get_len_dict(lines):\n",
    "\tmax_len = 0\n",
    "\tlen_dict = dict()\n",
    "\n",
    "\tfor line in lines:\n",
    "\t\tsent = line.split('\\t')[0]\n",
    "\t\tsent_tokens = tokenizer.tokenize(sent)\n",
    "\t\tlen_tokens = len(sent_tokens)\n",
    "\n",
    "\t\tif len_tokens > max_len:\n",
    "\t\t\tmax_len = len_tokens\n",
    "\n",
    "\t\tif len_dict.get(len_tokens) == None:\n",
    "\t\t\tlen_dict[len_tokens] = 0\n",
    "\t\tlen_dict[len_tokens] += 1\n",
    "\t\n",
    "\treturn len_dict, max_len\n",
    "\n",
    "def get_len_list(lines):\n",
    "\tmax_len = 0\n",
    "\tlen_list = list()\n",
    "\n",
    "\tfor line in lines:\n",
    "\t\tsent = line.split('\\t')[0]\n",
    "\t\tsent_tokens = tokenizer.tokenize(sent)\n",
    "\t\tlen_tokens = len(sent_tokens)\n",
    "\n",
    "\t\tif len_tokens > max_len:\n",
    "\t\t\tmax_len = len_tokens\n",
    "\t\tlen_list.append(len_tokens)\n",
    "\t\n",
    "\treturn len_list, max_len\n",
    "\n",
    "with open(fn, 'r', encoding='utf-8') as rf:\n",
    "\tlines = rf.readlines()\n",
    "\n",
    "#len_dict, max_len = get_len_dict(lines)\n",
    "len_list, max_len = get_len_list(lines)\n",
    "plt.hist(len_list, bins=max_len)\n",
    "plt.ylabel('number of sentence')\n",
    "plt.xlabel('length of sentence')\n",
    "plt.show()\n",
    "\n",
    "print('number of total samples:', len(len_list))\n",
    "singular = 48\n",
    "larger_than_singular = [l for l in len_list if l > singular]\n",
    "print(f'number of samples longer than {singular}:', len(larger_than_singular))\n",
    "print('max_seq_len:', max_len)"
   ]
  }
 ],
 "metadata": {
  "kernelspec": {
   "display_name": "Python 3.9.5 ('my_env395')",
   "language": "python",
   "name": "python3"
  },
  "language_info": {
   "codemirror_mode": {
    "name": "ipython",
    "version": 3
   },
   "file_extension": ".py",
   "mimetype": "text/x-python",
   "name": "python",
   "nbconvert_exporter": "python",
   "pygments_lexer": "ipython3",
   "version": "3.9.5"
  },
  "orig_nbformat": 4,
  "vscode": {
   "interpreter": {
    "hash": "3201418271cc844e7198a2730f41433373137cfdfcc7d67424e94d55107578a9"
   }
  }
 },
 "nbformat": 4,
 "nbformat_minor": 2
}
