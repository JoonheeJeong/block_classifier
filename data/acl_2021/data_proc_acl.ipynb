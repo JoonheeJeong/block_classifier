{
 "cells": [
  {
   "cell_type": "code",
   "execution_count": 1,
   "metadata": {},
   "outputs": [
    {
     "name": "stderr",
     "output_type": "stream",
     "text": [
      "/root/anaconda3/envs/my_env395/lib/python3.9/site-packages/openpyxl/worksheet/_reader.py:312: UserWarning: Data Validation extension is not supported and will be removed\n",
      "  warn(msg)\n"
     ]
    },
    {
     "name": "stdout",
     "output_type": "stream",
     "text": [
      "3364\n",
      "the number of abstracts: 484\n",
      "the number of lines: 3363\n",
      "the number of sentences: 3363\n",
      "{'1': 1095, '2': 620, '3': 768, '4': 758, '5': 14, '6': 59, '3+4': 27, '1+2': 1, '2+3': 21}\n"
     ]
    },
    {
     "data": {
      "image/png": "[encoded data removed]",
      "text/plain": [
       "<Figure size 640x480 with 1 Axes>"
      ]
     },
     "metadata": {},
     "output_type": "display_data"
    }
   ],
   "source": [
    "'''\n",
    "\texcel(.xlsx) to text(.txt)\n",
    "\n",
    "\ttext format:\n",
    "\t\tABS 1 - Line A\n",
    "\t\tABS 1 - Line B\n",
    "\t\t...\n",
    "\t\t<Abstract Seperator>\n",
    "\t\tABS 2 - ...\n",
    "\t\t...\n",
    "\t\t...\n",
    "\t\t<Abstract Seperator>\n",
    "\n",
    "\tLine format:\n",
    "\t\tSentence'\\t'label\n",
    "'''\n",
    "\n",
    "from openpyxl import load_workbook\n",
    "\n",
    "FN_EXCEL = 'acl_2021.xlsx'\n",
    "FN_TEXT  = 'total_acl_2021.txt'\n",
    "\n",
    "load_wb = load_workbook(FN_EXCEL, data_only=True)\n",
    "load_ws = load_wb['ACL 2021']\n",
    "\n",
    "m_row = load_ws.max_row\n",
    "print(m_row)\n",
    "\n",
    "liens_to_text = list()\n",
    "sentence_cnt_dict = dict()\n",
    "tag_cnt_dict = dict()\n",
    "prev_idx_abs = 2\n",
    "cnt_abs = 1\n",
    "cnt_lines = 0\n",
    "# keep reaading cells\n",
    "for row in range(2, m_row + 1):\n",
    "\tidx_abs = load_ws.cell(row, 1).value\n",
    "\tsentence = load_ws.cell(row, 4).value\n",
    "\ttag = load_ws.cell(row, 5).value.split('.')[0]\n",
    "\n",
    "\tif sentence_cnt_dict.get(sentence) == None:\n",
    "\t\tsentence_cnt_dict[sentence] = 0\n",
    "\tsentence_cnt_dict[sentence] += 1\n",
    "\t\n",
    "\tif tag_cnt_dict.get(tag) == None:\n",
    "\t\ttag_cnt_dict[tag] = 0\n",
    "\ttag_cnt_dict[tag] += 1\n",
    "\n",
    "\tif prev_idx_abs != idx_abs:\n",
    "\t\tprev_idx_abs = idx_abs\n",
    "\t\tcnt_abs += 1\n",
    "\t\tliens_to_text.append('----------\\n')\n",
    "\t\t\n",
    "\tline = sentence + '\\t' + tag + '\\n'\n",
    "\tliens_to_text.append(line)\n",
    "\tcnt_lines += 1\n",
    "\n",
    "liens_to_text.append('----------\\n')\n",
    "\n",
    "print('the number of abstracts:', cnt_abs)\n",
    "print('the number of lines:', cnt_lines)\n",
    "print('the number of sentences:', len(sentence_cnt_dict))\n",
    "print(tag_cnt_dict)\n",
    "\n",
    "with open(FN_TEXT, 'w', encoding='utf-8') as wf:\n",
    "\twf.writelines(liens_to_text)\n",
    "\n",
    "import matplotlib.pyplot as plt\n",
    "plt.bar(tag_cnt_dict.keys(), tag_cnt_dict.values())\n",
    "plt.show()"
   ]
  }
 ],
 "metadata": {
  "kernelspec": {
   "display_name": "Python 3.9.5 ('my_env395')",
   "language": "python",
   "name": "python3"
  },
  "language_info": {
   "codemirror_mode": {
    "name": "ipython",
    "version": 3
   },
   "file_extension": ".py",
   "mimetype": "text/x-python",
   "name": "python",
   "nbconvert_exporter": "python",
   "pygments_lexer": "ipython3",
   "version": "3.9.5"
  },
  "orig_nbformat": 4,
  "vscode": {
   "interpreter": {
    "hash": "3201418271cc844e7198a2730f41433373137cfdfcc7d67424e94d55107578a9"
   }
  }
 },
 "nbformat": 4,
 "nbformat_minor": 2
}
